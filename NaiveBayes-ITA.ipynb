{
 "cells": [
  {
   "cell_type": "markdown",
   "metadata": {},
   "source": [
    "<H1 style='text-align:center'>Detecção Spam utilizando Naive Bayes</H1>\n",
    "\n",
    "O Classificador Naive bayes é denominador ingênuo (naive) por assumir que os atributos são i.i.d (independentes e identicamente distribuídos), ou seja, a informação de um evento não é informativa sobre nenhum outro. Apesar deste premissa \"ingênua\" e simplista, o classificador reporta o melhor desempenho em várias tarefas de classificação. \n",
    "\n",
    "*\"All models are wrong but some are useful\"* (George E. P. Box)\n",
    "\n",
    "Até as primeiras décadas do século XVIII, problemas relacionados a probabilidade de certos eventos, dadas certas condições, estavam bem resolvidos. Por exemplo, dado um número específico de bolas negras e brancas em uma urna, qual é a probabilidade de eu sortear uma bola preta? Tais problemas são chamados de problemas de \"foward probability\". Porém, logo, o problema inverso começou a chamar a atenção dos matemáticos da época: Dado que uma ou mais bolas foram sorteadas, o que pode ser dito sobre o número de bolas brancas e pretas na urna?\n",
    "\n",
    "É exatamente este pensamento inverso que busamos ao treinar um classificador de textos. Dado que temos exemplos de texto de cada classe, o que podemos inferir sobre o processo gerador destes textos?\n",
    "\n",
    "<p style='text-align:right'>Adaptado de <a href='https://www.maxwell.vrac.puc-rio.br/9947/9947_5.PDF'>PUC-RIO</a></p>\n",
    "\n",
    "<hr>\n",
    "\n",
    "Para exemplificar a eficacia e utilização do algoritmo Naive Bayes foi escolhido o problema de detecção de SPAM em e-mails. Para isto, 4601 e-mails foram previamente processados gerando uma matriz que descreve o problema. Esta matriz ttem cada linha correspondente a um e-mail e suas 56 primeiras colunas a frequências das principais palavras em cada documento. Mais detalhes sobre como este dado foi formado pode ser encontrado no <a href='https://archive.ics.uci.edu/ml/datasets/spambase'>Link</a>.\n",
    "\n",
    "<hr>"
   ]
  },
  {
   "cell_type": "code",
   "execution_count": 3,
   "metadata": {
    "collapsed": false
   },
   "outputs": [],
   "source": [
    "require(e1071)"
   ]
  },
  {
   "cell_type": "markdown",
   "metadata": {},
   "source": [
    "Leitura dos dados salvos em um arquivo CSV"
   ]
  },
  {
   "cell_type": "code",
   "execution_count": 4,
   "metadata": {
    "collapsed": true
   },
   "outputs": [],
   "source": [
    "data = read.csv('data/spambase.data')"
   ]
  },
  {
   "cell_type": "markdown",
   "metadata": {},
   "source": [
    "Exibe os dados que foram lidos.<br>\n",
    "Observe que a coluna 'X1' é a coluna que determina se o e-mail correspondente àquela linha é ou não spam"
   ]
  },
  {
   "cell_type": "code",
   "execution_count": 5,
   "metadata": {
    "collapsed": false
   },
   "outputs": [
    {
     "data": {
      "text/html": [
       "<table>\n",
       "<thead><tr><th scope=col>X0</th><th scope=col>X0.64</th><th scope=col>X0.64.1</th><th scope=col>X0.1</th><th scope=col>X0.32</th><th scope=col>X0.2</th><th scope=col>X0.3</th><th scope=col>X0.4</th><th scope=col>X0.5</th><th scope=col>X0.6</th><th scope=col>⋯</th><th scope=col>X0.41</th><th scope=col>X0.42</th><th scope=col>X0.43</th><th scope=col>X0.778</th><th scope=col>X0.44</th><th scope=col>X0.45</th><th scope=col>X3.756</th><th scope=col>X61</th><th scope=col>X278</th><th scope=col>X1</th></tr></thead>\n",
       "<tbody>\n",
       "\t<tr><td>0.21 </td><td>0.28 </td><td>0.50 </td><td>0    </td><td>0.14 </td><td>0.28 </td><td>0.21 </td><td>0.07 </td><td>0.00 </td><td>0.94 </td><td>⋯    </td><td>0.00 </td><td>0.132</td><td>0    </td><td>0.372</td><td>0.180</td><td>0.048</td><td>5.114</td><td>101  </td><td>1028 </td><td>1    </td></tr>\n",
       "\t<tr><td>0.06 </td><td>0.00 </td><td>0.71 </td><td>0    </td><td>1.23 </td><td>0.19 </td><td>0.19 </td><td>0.12 </td><td>0.64 </td><td>0.25 </td><td>⋯    </td><td>0.01 </td><td>0.143</td><td>0    </td><td>0.276</td><td>0.184</td><td>0.010</td><td>9.821</td><td>485  </td><td>2259 </td><td>1    </td></tr>\n",
       "\t<tr><td>0.00 </td><td>0.00 </td><td>0.00 </td><td>0    </td><td>0.63 </td><td>0.00 </td><td>0.31 </td><td>0.63 </td><td>0.31 </td><td>0.63 </td><td>⋯    </td><td>0.00 </td><td>0.137</td><td>0    </td><td>0.137</td><td>0.000</td><td>0.000</td><td>3.537</td><td> 40  </td><td> 191 </td><td>1    </td></tr>\n",
       "\t<tr><td>0.00 </td><td>0.00 </td><td>0.00 </td><td>0    </td><td>0.63 </td><td>0.00 </td><td>0.31 </td><td>0.63 </td><td>0.31 </td><td>0.63 </td><td>⋯    </td><td>0.00 </td><td>0.135</td><td>0    </td><td>0.135</td><td>0.000</td><td>0.000</td><td>3.537</td><td> 40  </td><td> 191 </td><td>1    </td></tr>\n",
       "\t<tr><td>0.00 </td><td>0.00 </td><td>0.00 </td><td>0    </td><td>1.85 </td><td>0.00 </td><td>0.00 </td><td>1.85 </td><td>0.00 </td><td>0.00 </td><td>⋯    </td><td>0.00 </td><td>0.223</td><td>0    </td><td>0.000</td><td>0.000</td><td>0.000</td><td>3.000</td><td> 15  </td><td>  54 </td><td>1    </td></tr>\n",
       "\t<tr><td>0.00 </td><td>0.00 </td><td>0.00 </td><td>0    </td><td>1.92 </td><td>0.00 </td><td>0.00 </td><td>0.00 </td><td>0.00 </td><td>0.64 </td><td>⋯    </td><td>0.00 </td><td>0.054</td><td>0    </td><td>0.164</td><td>0.054</td><td>0.000</td><td>1.671</td><td>  4  </td><td> 112 </td><td>1    </td></tr>\n",
       "</tbody>\n",
       "</table>\n"
      ],
      "text/latex": [
       "\\begin{tabular}{r|llllllllllllllllllllllllllllllllllllllllllllllllllllllllll}\n",
       " X0 & X0.64 & X0.64.1 & X0.1 & X0.32 & X0.2 & X0.3 & X0.4 & X0.5 & X0.6 & ⋯ & X0.41 & X0.42 & X0.43 & X0.778 & X0.44 & X0.45 & X3.756 & X61 & X278 & X1\\\\\n",
       "\\hline\n",
       "\t 0.21  & 0.28  & 0.50  & 0     & 0.14  & 0.28  & 0.21  & 0.07  & 0.00  & 0.94  & ⋯     & 0.00  & 0.132 & 0     & 0.372 & 0.180 & 0.048 & 5.114 & 101   & 1028  & 1    \\\\\n",
       "\t 0.06  & 0.00  & 0.71  & 0     & 1.23  & 0.19  & 0.19  & 0.12  & 0.64  & 0.25  & ⋯     & 0.01  & 0.143 & 0     & 0.276 & 0.184 & 0.010 & 9.821 & 485   & 2259  & 1    \\\\\n",
       "\t 0.00  & 0.00  & 0.00  & 0     & 0.63  & 0.00  & 0.31  & 0.63  & 0.31  & 0.63  & ⋯     & 0.00  & 0.137 & 0     & 0.137 & 0.000 & 0.000 & 3.537 &  40   &  191  & 1    \\\\\n",
       "\t 0.00  & 0.00  & 0.00  & 0     & 0.63  & 0.00  & 0.31  & 0.63  & 0.31  & 0.63  & ⋯     & 0.00  & 0.135 & 0     & 0.135 & 0.000 & 0.000 & 3.537 &  40   &  191  & 1    \\\\\n",
       "\t 0.00  & 0.00  & 0.00  & 0     & 1.85  & 0.00  & 0.00  & 1.85  & 0.00  & 0.00  & ⋯     & 0.00  & 0.223 & 0     & 0.000 & 0.000 & 0.000 & 3.000 &  15   &   54  & 1    \\\\\n",
       "\t 0.00  & 0.00  & 0.00  & 0     & 1.92  & 0.00  & 0.00  & 0.00  & 0.00  & 0.64  & ⋯     & 0.00  & 0.054 & 0     & 0.164 & 0.054 & 0.000 & 1.671 &   4   &  112  & 1    \\\\\n",
       "\\end{tabular}\n"
      ],
      "text/markdown": [
       "\n",
       "X0 | X0.64 | X0.64.1 | X0.1 | X0.32 | X0.2 | X0.3 | X0.4 | X0.5 | X0.6 | ⋯ | X0.41 | X0.42 | X0.43 | X0.778 | X0.44 | X0.45 | X3.756 | X61 | X278 | X1 | \n",
       "|---|---|---|---|---|---|\n",
       "| 0.21  | 0.28  | 0.50  | 0     | 0.14  | 0.28  | 0.21  | 0.07  | 0.00  | 0.94  | ⋯     | 0.00  | 0.132 | 0     | 0.372 | 0.180 | 0.048 | 5.114 | 101   | 1028  | 1     | \n",
       "| 0.06  | 0.00  | 0.71  | 0     | 1.23  | 0.19  | 0.19  | 0.12  | 0.64  | 0.25  | ⋯     | 0.01  | 0.143 | 0     | 0.276 | 0.184 | 0.010 | 9.821 | 485   | 2259  | 1     | \n",
       "| 0.00  | 0.00  | 0.00  | 0     | 0.63  | 0.00  | 0.31  | 0.63  | 0.31  | 0.63  | ⋯     | 0.00  | 0.137 | 0     | 0.137 | 0.000 | 0.000 | 3.537 |  40   |  191  | 1     | \n",
       "| 0.00  | 0.00  | 0.00  | 0     | 0.63  | 0.00  | 0.31  | 0.63  | 0.31  | 0.63  | ⋯     | 0.00  | 0.135 | 0     | 0.135 | 0.000 | 0.000 | 3.537 |  40   |  191  | 1     | \n",
       "| 0.00  | 0.00  | 0.00  | 0     | 1.85  | 0.00  | 0.00  | 1.85  | 0.00  | 0.00  | ⋯     | 0.00  | 0.223 | 0     | 0.000 | 0.000 | 0.000 | 3.000 |  15   |   54  | 1     | \n",
       "| 0.00  | 0.00  | 0.00  | 0     | 1.92  | 0.00  | 0.00  | 0.00  | 0.00  | 0.64  | ⋯     | 0.00  | 0.054 | 0     | 0.164 | 0.054 | 0.000 | 1.671 |   4   |  112  | 1     | \n",
       "\n",
       "\n"
      ],
      "text/plain": [
       "  X0   X0.64 X0.64.1 X0.1 X0.32 X0.2 X0.3 X0.4 X0.5 X0.6 ⋯ X0.41 X0.42 X0.43\n",
       "1 0.21 0.28  0.50    0    0.14  0.28 0.21 0.07 0.00 0.94 ⋯ 0.00  0.132 0    \n",
       "2 0.06 0.00  0.71    0    1.23  0.19 0.19 0.12 0.64 0.25 ⋯ 0.01  0.143 0    \n",
       "3 0.00 0.00  0.00    0    0.63  0.00 0.31 0.63 0.31 0.63 ⋯ 0.00  0.137 0    \n",
       "4 0.00 0.00  0.00    0    0.63  0.00 0.31 0.63 0.31 0.63 ⋯ 0.00  0.135 0    \n",
       "5 0.00 0.00  0.00    0    1.85  0.00 0.00 1.85 0.00 0.00 ⋯ 0.00  0.223 0    \n",
       "6 0.00 0.00  0.00    0    1.92  0.00 0.00 0.00 0.00 0.64 ⋯ 0.00  0.054 0    \n",
       "  X0.778 X0.44 X0.45 X3.756 X61 X278 X1\n",
       "1 0.372  0.180 0.048 5.114  101 1028 1 \n",
       "2 0.276  0.184 0.010 9.821  485 2259 1 \n",
       "3 0.137  0.000 0.000 3.537   40  191 1 \n",
       "4 0.135  0.000 0.000 3.537   40  191 1 \n",
       "5 0.000  0.000 0.000 3.000   15   54 1 \n",
       "6 0.164  0.054 0.000 1.671    4  112 1 "
      ]
     },
     "metadata": {},
     "output_type": "display_data"
    }
   ],
   "source": [
    "head(data)"
   ]
  },
  {
   "cell_type": "markdown",
   "metadata": {},
   "source": [
    "Separa os dados em duas partes:\n",
    "* spam = coluna que identifica se o email em questão é ou não SPAM\n",
    "* data = tabela que contem a frequência das palavras "
   ]
  },
  {
   "cell_type": "code",
   "execution_count": 6,
   "metadata": {
    "collapsed": true
   },
   "outputs": [],
   "source": [
    "spam = as.factor(data$X1)\n",
    "data = data[,which(names(data) != 'X1')]"
   ]
  },
  {
   "cell_type": "markdown",
   "metadata": {},
   "source": [
    "Como forma de avaliar o modelo do Naive Bayes, separamos os dados em duas partes: Treino e Teste. O objetivo é treinar o nosso modelo em 70% dos dados (treino) e avaliar se o nosso modelo está acertando nos demais 30% que ainda não foram observados.\n",
    "\n",
    "Como os nossos dados já estavam anteriormente separados entre treino e teste, com esta nova separação acabamos com 4 segmentos de dados:\n",
    "* train.data : Tabela de dados do treino\n",
    "* train.spam : informação que identifica se os e-mail do treino são ou não SPAM\n",
    "* teste.data : Tabela de dados do teste\n",
    "* teste.spam : informação que identifica se os e-mail do teste são ou não SPAM"
   ]
  },
  {
   "cell_type": "code",
   "execution_count": 42,
   "metadata": {
    "collapsed": true
   },
   "outputs": [],
   "source": [
    "idx = runif(nrow(data)) > 0.7\n",
    "\n",
    "train.data = data[idx,]\n",
    "train.spam = spam[idx]\n",
    "\n",
    "teste.data = data[!idx,]\n",
    "teste.spam = spam[!idx]"
   ]
  },
  {
   "cell_type": "markdown",
   "metadata": {},
   "source": [
    "O Objetivo de qualquer classificador da área de aprendizado de máquinas é inferir sua classe (em nosso contexto SPAM ou Não) por meio de suas variáveis explicativas (em nosso contexto a frequência das palavras). "
   ]
  },
  {
   "cell_type": "code",
   "execution_count": 43,
   "metadata": {
    "collapsed": false
   },
   "outputs": [],
   "source": [
    "nb = naiveBayes(x = train.data, y = train.spam)"
   ]
  },
  {
   "cell_type": "markdown",
   "metadata": {},
   "source": [
    "Dado o modelo calculado anteriormente, infere sobre ser ou não SPAM nos dados de teste"
   ]
  },
  {
   "cell_type": "code",
   "execution_count": 44,
   "metadata": {
    "collapsed": true
   },
   "outputs": [],
   "source": [
    "teste.pred = predict(nb, teste.data)"
   ]
  },
  {
   "cell_type": "markdown",
   "metadata": {},
   "source": [
    "Acurácia determina qual a porcentagem de e-mails que o modelo, em nosso contexto o Naive Bayes, de fato acertou classifando como sendo ou não SPAM."
   ]
  },
  {
   "cell_type": "code",
   "execution_count": 54,
   "metadata": {
    "collapsed": false
   },
   "outputs": [
    {
     "name": "stdout",
     "output_type": "stream",
     "text": [
      "Taxa de acerto na base de teste: 0.69"
     ]
    }
   ],
   "source": [
    "acc = length(which(teste.spam == teste.pred))/length(teste.spam)\n",
    "cat(sprintf(\"Taxa de acerto na base de teste: %.2f\", acc))"
   ]
  },
  {
   "cell_type": "markdown",
   "metadata": {},
   "source": [
    "Matriz de confusão:"
   ]
  },
  {
   "cell_type": "code",
   "execution_count": 45,
   "metadata": {
    "collapsed": false
   },
   "outputs": [
    {
     "data": {
      "text/plain": [
       "          teste.pred\n",
       "teste.spam    0    1\n",
       "         0  997  929\n",
       "         1   69 1207"
      ]
     },
     "metadata": {},
     "output_type": "display_data"
    }
   ],
   "source": [
    "table(teste.spam, teste.pred)"
   ]
  },
  {
   "cell_type": "markdown",
   "metadata": {},
   "source": [
    "<hr>\n",
    "\n",
    "Desenvolvido por:<br>\n",
    "Felipe Duarte - <a href='mailto:felipe.duarte@itau-unibanco.com.br'>felipe.duarte@itau-unibanco.com.br</a><br>\n",
    "Edilson Anselmo - <a href='mailto:edilson.anselmo-correa@itau-unibanco.com.br'>edilson.anselmo-correa@itau-unibanco.com.br</a><br>"
   ]
  }
 ],
 "metadata": {
  "kernelspec": {
   "display_name": "R",
   "language": "R",
   "name": "ir"
  },
  "language_info": {
   "codemirror_mode": "r",
   "file_extension": ".r",
   "mimetype": "text/x-r-source",
   "name": "R",
   "pygments_lexer": "r",
   "version": "3.2.3"
  }
 },
 "nbformat": 4,
 "nbformat_minor": 2
}
